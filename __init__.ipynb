{
 "cells": [
  {
   "cell_type": "code",
   "execution_count": 1,
   "metadata": {
    "collapsed": false
   },
   "outputs": [],
   "source": [
    "'''w.c The wild.chicken top level module for managing tasks'''\n",
    "\n",
    "import sys\n",
    "import os\n",
    "import datetime as dt\n",
    "import time\n",
    "import logging\n",
    "\n",
    "\n",
    "from _setup_routines import _init_logs, _setup_engine\n"
   ]
  },
  {
   "cell_type": "code",
   "execution_count": null,
   "metadata": {
    "collapsed": true
   },
   "outputs": [],
   "source": [
    "def standalone_exec():\n",
    "    print('Running main')\n",
    "    wc_log = _init_logs()\n",
    "    db_engine = _setup_engine() \n",
    "    session = _open_session(db_engine)\n",
    "    add_task(session, desc=\"Buy weekly groceries\", orig_comp=dt.datetime(2016, 5, 29), for_whom=1)\n",
    "    return 0"
   ]
  },
  {
   "cell_type": "code",
   "execution_count": 2,
   "metadata": {
    "collapsed": false
   },
   "outputs": [
    {
     "name": "stdout",
     "output_type": "stream",
     "text": [
      "__main__\n",
      "Running main\n",
      "2016-05-30 15:51:23,701::_setup_routines::_setup_routines.py::DEBUG::Starting in C:\\Users\\Galen\\git\\w.c\n",
      "2016-05-30 15:51:23,703::_setup_routines::_setup_routines.py::DEBUG::Versions:\n",
      "2016-05-30 15:51:23,704::_setup_routines::_setup_routines.py::DEBUG::  slqalchemy: 1.0.13\n",
      "2016-05-30 15:51:23,706::_setup_routines::_setup_routines.py::DEBUG::     sqlite3: 2.6.0\n",
      "2016-05-30 15:51:23,707::_setup_routines::_setup_routines.py::DEBUG:: db_dir:: C:\\Users\\Galen\\git\\db\n",
      "2016-05-30 15:51:23,708::_setup_routines::_setup_routines.py::DEBUG::db_name:: C:\\Users\\Galen\\git\\db\\work_cards.db\n"
     ]
    }
   ],
   "source": [
    "print(__name__)\n",
    "\n",
    "if __name__ == '__main__':\n",
    "    standalone_exec()"
   ]
  }
 ],
 "metadata": {
  "kernelspec": {
   "display_name": "Python 3 (py3k)",
   "language": "python",
   "name": "py3k"
  },
  "language_info": {
   "codemirror_mode": {
    "name": "ipython",
    "version": 2
   },
   "file_extension": ".py",
   "mimetype": "text/x-python",
   "name": "python",
   "nbconvert_exporter": "python",
   "pygments_lexer": "ipython2",
   "version": "2.7.11"
  }
 },
 "nbformat": 4,
 "nbformat_minor": 0
}
