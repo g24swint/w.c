{
 "cells": [
  {
   "cell_type": "code",
   "execution_count": 14,
   "metadata": {
    "collapsed": false
   },
   "outputs": [],
   "source": [
    "import sqlite3 as db\n",
    "import sqlalchemy as sa\n",
    "import logging as logging\n",
    "import sys"
   ]
  },
  {
   "cell_type": "code",
   "execution_count": null,
   "metadata": {
    "collapsed": true
   },
   "outputs": [],
   "source": [
    "# \"global\" variables\n",
    "wc_log = None"
   ]
  },
  {
   "cell_type": "code",
   "execution_count": 53,
   "metadata": {
    "collapsed": false
   },
   "outputs": [
    {
     "name": "stdout",
     "output_type": "stream",
     "text": [
      "2016-05-29 21:58:40,888::w_c::DEBUG::Versions:\n",
      "2016-05-29 21:58:40,891::w_c::DEBUG::  slqalchemy: 1.0.13\n",
      "2016-05-29 21:58:40,900::w_c::DEBUG::     sqlite3: 2.6.0\n"
     ]
    }
   ],
   "source": [
    "def _init_logs(reset_handlers=True):\n",
    "    \"\"\"Create a sys.stdout logger for w_c and print startup information \n",
    "    \n",
    "    The logger name is the \"w_c\" namespace\n",
    "    \"\"\"\n",
    "    global wc_log\n",
    "    log = logging.getLogger(\"w_c\")\n",
    "    if reset_handlers:\n",
    "        log.handlers = []\n",
    "        log_stream = logging.StreamHandler(sys.stdout)\n",
    "        log_formatter = logging.Formatter('%(asctime)s::%(name)s::%(levelname)s::%(message)s')\n",
    "        log_stream.setFormatter(log_formatter)\n",
    "        log.addHandler(log_stream)\n",
    "        log.setLevel(logging.DEBUG)\n",
    "    log.debug(\"Versions:\")\n",
    "    log.debug(\"  slqalchemy: {}\".format(sa.__version__))\n",
    "    log.debug(\"     sqlite3: {}\".format(db.version))\n",
    "    wc_log = log\n",
    "\n",
    "_init_logs()"
   ]
  },
  {
   "cell_type": "code",
   "execution_count": 50,
   "metadata": {
    "collapsed": false
   },
   "outputs": [
    {
     "data": {
      "text/plain": [
       "1"
      ]
     },
     "execution_count": 50,
     "metadata": {},
     "output_type": "execute_result"
    }
   ],
   "source": []
  },
  {
   "cell_type": "code",
   "execution_count": 7,
   "metadata": {
    "collapsed": true
   },
   "outputs": [],
   "source": [
    "?logging.StreamHandler"
   ]
  },
  {
   "cell_type": "code",
   "execution_count": null,
   "metadata": {
    "collapsed": true
   },
   "outputs": [],
   "source": []
  }
 ],
 "metadata": {
  "kernelspec": {
   "display_name": "Python 3 (py3k)",
   "language": "python",
   "name": "py3k"
  },
  "language_info": {
   "codemirror_mode": {
    "name": "ipython",
    "version": 3
   },
   "file_extension": ".py",
   "mimetype": "text/x-python",
   "name": "python",
   "nbconvert_exporter": "python",
   "pygments_lexer": "ipython3",
   "version": "3.5.1"
  }
 },
 "nbformat": 4,
 "nbformat_minor": 0
}
