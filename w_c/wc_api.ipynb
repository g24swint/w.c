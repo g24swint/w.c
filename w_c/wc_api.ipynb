{
 "cells": [
  {
   "cell_type": "code",
   "execution_count": 1,
   "metadata": {
    "collapsed": false
   },
   "outputs": [],
   "source": [
    "'''w.c task management API including\n",
    "\n",
    "add_task\n",
    "update_task\n",
    "\n",
    "'''\n",
    "import logging as logging\n",
    "import datetime as dt\n",
    "\n",
    "import sqlalchemy as sa"
   ]
  },
  {
   "cell_type": "code",
   "execution_count": 2,
   "metadata": {
    "collapsed": false
   },
   "outputs": [
    {
     "name": "stdout",
     "output_type": "stream",
     "text": [
      "Task None: (Buy weekly groceries, 2016-05-29 00:00:00, 2016-06-04 00:00:00, Galen, Todo)\n"
     ]
    }
   ],
   "source": [
    "from _data_model import *"
   ]
  },
  {
   "cell_type": "code",
   "execution_count": 19,
   "metadata": {
    "collapsed": true
   },
   "outputs": [],
   "source": [
    "class TaskList():\n",
    "    def __init__(self, db_name):\n",
    "        self.log = logging.getLogger(__name__)\n",
    "        self.db_name = db_name\n",
    "        self.db_engine = self._create_engine(db_name)\n",
    "        self.session = self._open_session()\n",
    "    \n",
    "    def _create_engine(self, db_name):\n",
    "        '''Set the database execution file and create a db directory if none exists\n",
    "\n",
    "        Params:\n",
    "            db_dir: directory where the sqlite3 db shall be put\n",
    "\n",
    "        Returns:\n",
    "            sqlalchemy engine object\n",
    "        '''\n",
    "        db_engine = sa.create_engine(\"sqlite:///\" + db_name)\n",
    "        return db_engine   \n",
    "    \n",
    "    def _open_session(self):\n",
    "        '''Set an open session object to our backing data store\n",
    "\n",
    "        Params:\n",
    "            db_engine: a valid sqlalchemy database engine\n",
    "\n",
    "        Returns:\n",
    "            an open Session object referenced by this object\n",
    "        '''\n",
    "        from sqlalchemy.orm import sessionmaker\n",
    "        #pylint: disable=invalid-name\n",
    "        Session = sessionmaker(bind=self.db_engine)\n",
    "        #pylint: enable=invalid-name\n",
    "        self.session = Session()\n",
    "        return self.session\n",
    "    \n",
    "    def list(self, session):\n",
    "        '''Return a list of all tasks.\n",
    "\n",
    "        Params:\n",
    "            session: an open session object\n",
    "        Returns:\n",
    "            list of all tasks in the db\n",
    "        '''\n",
    "        all_tasks = session.query(Tasks).all()\n",
    "        self.log.debug(\"All tasks\", (all_tasks))\n",
    "        print(all_tasks)\n",
    "        return all_tasks\n",
    "    \n",
    "    def add(self, session, desc, orig_comp, for_whom):\n",
    "        '''Adds a task to the tasks list.\n",
    "\n",
    "        Params:\n",
    "            desc: description of the task\n",
    "            orig_comp: the original completion date set for the task\n",
    "            cur_comp: the current completion date on the task\n",
    "            for_whom: task for whom its being completed\n",
    "\n",
    "        Returns:\n",
    "            id for the added task\n",
    "        '''\n",
    "        task_to_add = Tasks(desc=desc, orig_comp=orig_comp, cur_comp=orig_comp, \n",
    "                            status=\"Todo\", for_whom=for_whom)\n",
    "        session.add(task_to_add)\n",
    "        session.commit()\n",
    "        self.log.debug(\"added task: %s\", (str(task_to_add)))\n",
    "        return task_to_add.tid\n",
    "    def update_task(self):\n",
    "        pass\n",
    "    "
   ]
  },
  {
   "cell_type": "code",
   "execution_count": 20,
   "metadata": {
    "collapsed": false
   },
   "outputs": [
    {
     "name": "stdout",
     "output_type": "stream",
     "text": [
      "2016-06-03 22:17:18,865::_setup_routines::_setup_routines.py::DEBUG::Starting in C:\\Users\\ibuypower\\git\\w.c\n",
      "2016-06-03 22:17:18,867::_setup_routines::_setup_routines.py::DEBUG::Versions:\n",
      "2016-06-03 22:17:18,868::_setup_routines::_setup_routines.py::DEBUG::  slqalchemy: 1.0.9\n",
      "2016-06-03 22:17:18,871::_setup_routines::_setup_routines.py::DEBUG::     sqlite3: 2.6.0\n",
      "2016-06-03 22:17:18,872::_setup_routines::_setup_routines.py::DEBUG:: db_dir:: C:\\Users\\ibuypower\\git\\db\n",
      "2016-06-03 22:17:18,877::_setup_routines::_setup_routines.py::DEBUG::db_name:: C:\\Users\\ibuypower\\git\\db\\work_cards.db\n"
     ]
    },
    {
     "ename": "TypeError",
     "evalue": "add() takes exactly 5 arguments (2 given)",
     "output_type": "error",
     "traceback": [
      "\u001b[1;31m---------------------------------------------------------------------------\u001b[0m",
      "\u001b[1;31mTypeError\u001b[0m                                 Traceback (most recent call last)",
      "\u001b[1;32m<ipython-input-20-2f8e1bfc5c53>\u001b[0m in \u001b[0;36m<module>\u001b[1;34m()\u001b[0m\n\u001b[0;32m     15\u001b[0m \u001b[1;33m\u001b[0m\u001b[0m\n\u001b[0;32m     16\u001b[0m \u001b[1;33m\u001b[0m\u001b[0m\n\u001b[1;32m---> 17\u001b[1;33m     \u001b[0mtask_list\u001b[0m\u001b[1;33m.\u001b[0m\u001b[0madd\u001b[0m\u001b[1;33m(\u001b[0m\u001b[0mfirst_task\u001b[0m\u001b[1;33m)\u001b[0m\u001b[1;33m\u001b[0m\u001b[0m\n\u001b[0m\u001b[0;32m     18\u001b[0m \u001b[1;33m\u001b[0m\u001b[0m\n\u001b[0;32m     19\u001b[0m     \u001b[0mtask_list\u001b[0m\u001b[1;33m.\u001b[0m\u001b[0mlist\u001b[0m\u001b[1;33m(\u001b[0m\u001b[0msession\u001b[0m\u001b[1;33m)\u001b[0m\u001b[1;33m\u001b[0m\u001b[0m\n",
      "\u001b[1;31mTypeError\u001b[0m: add() takes exactly 5 arguments (2 given)"
     ]
    }
   ],
   "source": [
    "if __name__==\"__main__\":\n",
    "    from _setup_routines import _init_logs, _get_db_name\n",
    "    _init_logs()\n",
    "    \n",
    "    db_dir = _get_db_name()\n",
    "    \n",
    "    task_list = TaskList(db_dir)\n",
    "    # drop all in the db and rebuild\n",
    "    Base.metadata.drop_all(task_list.db_engine)\n",
    "    Base.metadata.create_all(task_list.db_engine)\n",
    "    \n",
    "\n",
    "    first_task = Tasks(desc=\"Buy weekly groceries\", orig_comp=dt.datetime(2016, 5, 29),\n",
    "                      cur_comp=dt.datetime(2016, 6, 4), for_whom=1, status=\"Todo\")\n",
    "\n",
    "    \n",
    "    task_list.add(first_task)\n",
    "\n",
    "    task_list.list(session)"
   ]
  },
  {
   "cell_type": "code",
   "execution_count": null,
   "metadata": {
    "collapsed": true
   },
   "outputs": [],
   "source": []
  }
 ],
 "metadata": {
  "kernelspec": {
   "display_name": "Python 3 (py3k)",
   "language": "python",
   "name": "py3k"
  },
  "language_info": {
   "codemirror_mode": {
    "name": "ipython",
    "version": 2
   },
   "file_extension": ".py",
   "mimetype": "text/x-python",
   "name": "python",
   "nbconvert_exporter": "python",
   "pygments_lexer": "ipython2",
   "version": "2.7.11"
  }
 },
 "nbformat": 4,
 "nbformat_minor": 0
}
