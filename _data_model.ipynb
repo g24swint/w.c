{
 "cells": [
  {
   "cell_type": "code",
   "execution_count": null,
   "metadata": {
    "collapsed": true
   },
   "outputs": [],
   "source": [
    "'''_data_model.py contains the data models for the essential parts of the todo lists in several major classes.\n",
    "'''\n",
    "import sqlalchemy as sa\n"
   ]
  },
  {
   "cell_type": "code",
   "execution_count": null,
   "metadata": {
    "collapsed": true
   },
   "outputs": [],
   "source": [
    "# disable pylint squawks when using Declarative\n",
    "# pylint: disable=too-few-public-methods,invalid-constant-name\n",
    "\n",
    "from sqlalchemy.ext.declarative import declarative_base\n",
    "Base = declarative_base()"
   ]
  },
  {
   "cell_type": "code",
   "execution_count": null,
   "metadata": {
    "collapsed": true
   },
   "outputs": [],
   "source": [
    "\n",
    "class Tasks(Base):\n",
    "    '''SQLAlchemy Tasks class that maps all tasks to the tasks table\n",
    "    \n",
    "    Task descriptions default to Twitter length strings :-)\n",
    "    '''\n",
    "    __tablename__ = \"tasks\"\n",
    "    tid = sa.Column(sa.Integer, primary_key=True)\n",
    "    desc = sa.Column(sa.String(140))\n",
    "    orig_comp = sa.Column(sa.DateTime)\n",
    "    cur_comp = sa.Column(sa.DateTime)\n",
    "    for_whom = sa.Column(sa.Integer)\n",
    "    status = sa.Column(sa.String(140))\n",
    "    \n",
    "    def __repr__(self):\n",
    "        return \"Task {.tid}: ({.desc}, {.orig_comp}, {.cur_comp}, {.for_whom}, {.status})\".\\\n",
    "                format(self)\n",
    "    "
   ]
  }
 ],
 "metadata": {
  "kernelspec": {
   "display_name": "Python 3 (py3k)",
   "language": "python",
   "name": "py3k"
  },
  "language_info": {
   "codemirror_mode": {
    "name": "ipython",
    "version": 3
   },
   "file_extension": ".py",
   "mimetype": "text/x-python",
   "name": "python",
   "nbconvert_exporter": "python",
   "pygments_lexer": "ipython3",
   "version": "3.5.1"
  }
 },
 "nbformat": 4,
 "nbformat_minor": 0
}
