{
 "cells": [
  {
   "cell_type": "code",
   "execution_count": 1,
   "metadata": {
    "collapsed": false
   },
   "outputs": [],
   "source": [
    "'''w.c task management API including\n",
    "\n",
    "add_task\n",
    "update_task\n",
    "\n",
    "'''\n",
    "import logging as logging\n",
    "import datetime as dt\n",
    "\n",
    "import sqlalchemy as sa"
   ]
  },
  {
   "cell_type": "code",
   "execution_count": 2,
   "metadata": {
    "collapsed": false
   },
   "outputs": [
    {
     "name": "stdout",
     "output_type": "stream",
     "text": [
      "Task None: (Buy weekly groceries, 2016-05-29 00:00:00, 2016-06-04 00:00:00, Galen, Todo)\n"
     ]
    }
   ],
   "source": [
    "from _data_model import *"
   ]
  },
  {
   "cell_type": "code",
   "execution_count": 14,
   "metadata": {
    "collapsed": false
   },
   "outputs": [],
   "source": [
    "def list_tasks(session):\n",
    "    '''Return a list of all tasks.\n",
    "    \n",
    "    Params:\n",
    "        session: an open session object\n",
    "    Returns:\n",
    "        list of all tasks in the db\n",
    "    '''\n",
    "    log = logging.getLogger(__name__)\n",
    "    all_tasks = session.query(Tasks).all()\n",
    "    log.debug(\"All tasks\", (all_tasks))\n",
    "    print(all_tasks)\n",
    "    return all_tasks"
   ]
  },
  {
   "cell_type": "code",
   "execution_count": 4,
   "metadata": {
    "collapsed": false
   },
   "outputs": [],
   "source": [
    "def add_task(session, desc, orig_comp, for_whom):\n",
    "    '''Adds a task to the tasks list.\n",
    "    \n",
    "    Params:\n",
    "        desc: description of the task\n",
    "        orig_comp: the original completion date set for the task\n",
    "        cur_comp: the current completion date on the task\n",
    "        for_whom: task for whom its being completed\n",
    "        \n",
    "    Returns:\n",
    "        id for the added task\n",
    "    '''\n",
    "    log = logging.getLogger(__name__)\n",
    "    task_to_add = Tasks(desc=desc, orig_comp=orig_comp, cur_comp=orig_comp, \n",
    "                        status=\"Todo\", for_whom=for_whom)\n",
    "    session.add(task_to_add)\n",
    "    session.commit()\n",
    "    log.debug(\"added task: %s\", (str(task_to_add)))\n",
    "    return task_to_add.tid\n",
    "\n"
   ]
  },
  {
   "cell_type": "code",
   "execution_count": 5,
   "metadata": {
    "collapsed": true
   },
   "outputs": [],
   "source": [
    "def update_task():\n",
    "    pass\n"
   ]
  },
  {
   "cell_type": "code",
   "execution_count": 15,
   "metadata": {
    "collapsed": false
   },
   "outputs": [
    {
     "name": "stdout",
     "output_type": "stream",
     "text": [
      "2016-05-30 21:51:41,903::_setup_routines::_setup_routines.py::DEBUG::Starting in C:\\Users\\ibuypower\\git\\w.c\n",
      "2016-05-30 21:51:41,904::_setup_routines::_setup_routines.py::DEBUG::Versions:\n",
      "2016-05-30 21:51:41,905::_setup_routines::_setup_routines.py::DEBUG::  slqalchemy: 1.0.9\n",
      "2016-05-30 21:51:41,907::_setup_routines::_setup_routines.py::DEBUG::     sqlite3: 2.6.0\n",
      "2016-05-30 21:51:41,910::_setup_routines::_setup_routines.py::DEBUG:: db_dir:: C:\\Users\\ibuypower\\git\\db\n",
      "2016-05-30 21:51:41,914::_setup_routines::_setup_routines.py::DEBUG::db_name:: C:\\Users\\ibuypower\\git\\db\\work_cards.db\n",
      "[Task 1: (Buy weekly groceries, 2016-05-29 00:00:00, 2016-06-04 00:00:00, 1, Todo)]\n"
     ]
    }
   ],
   "source": [
    "if __name__==\"__main__\":\n",
    "    from _setup_routines import _init_logs, _setup_engine, _open_session\n",
    "    _init_logs()\n",
    "    \n",
    "    db_engine = _setup_engine()\n",
    "    \n",
    "    # drop all in the db and rebuild\n",
    "    Base.metadata.drop_all(db_engine)\n",
    "    Base.metadata.create_all(db_engine)\n",
    "    \n",
    "    first_task = Tasks(desc=\"Buy weekly groceries\", orig_comp=dt.datetime(2016, 5, 29),\n",
    "                      cur_comp=dt.datetime(2016, 6, 4), for_whom=1, status=\"Todo\")\n",
    "\n",
    "    session = _open_session(db_engine)\n",
    "\n",
    "    session.add(first_task)\n",
    "\n",
    "    session.commit()\n",
    "\n",
    "    list_tasks(session)"
   ]
  },
  {
   "cell_type": "code",
   "execution_count": null,
   "metadata": {
    "collapsed": true
   },
   "outputs": [],
   "source": []
  }
 ],
 "metadata": {
  "kernelspec": {
   "display_name": "Python 3 (py3k)",
   "language": "python",
   "name": "py3k"
  },
  "language_info": {
   "codemirror_mode": {
    "name": "ipython",
    "version": 2
   },
   "file_extension": ".py",
   "mimetype": "text/x-python",
   "name": "python",
   "nbconvert_exporter": "python",
   "pygments_lexer": "ipython2",
   "version": "2.7.11"
  }
 },
 "nbformat": 4,
 "nbformat_minor": 0
}
