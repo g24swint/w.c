{
 "cells": [
  {
   "cell_type": "code",
   "execution_count": 1,
   "metadata": {
    "collapsed": false
   },
   "outputs": [],
   "source": [
    "'''w.c task management API including\n",
    "\n",
    "add_task\n",
    "update_task\n",
    "\n",
    "'''\n",
    "import logging as logging\n",
    "import datetime as dt\n",
    "import time\n",
    "\n",
    "import sqlite3 as db\n",
    "import sqlalchemy as sa"
   ]
  },
  {
   "cell_type": "code",
   "execution_count": 5,
   "metadata": {
    "collapsed": false
   },
   "outputs": [],
   "source": [
    "from _datamodel import *"
   ]
  },
  {
   "cell_type": "code",
   "execution_count": 15,
   "metadata": {
    "collapsed": false
   },
   "outputs": [],
   "source": [
    "def add_task(desc, orig_comp, for_whom):\n",
    "    '''Adds a task to the tasks list.\n",
    "    \n",
    "    Params:\n",
    "        desc: description of the task\n",
    "        orig_comp: the original completion date set for the task\n",
    "        cur_comp: the current completion date on the task\n",
    "        for_whom: task for whom its being completed\n",
    "        \n",
    "    Returns:\n",
    "        id for the added task\n",
    "    '''\n",
    "    log = logging.getLogger(__name__)\n",
    "    task_to_add = Tasks(desc=desc, orig_comp=orig_comp, cur_comp=orig_comp, \n",
    "                        status=\"Todo\", for_whom=for_whom)\n",
    "    session.add(task_to_add)\n",
    "    session.commit()\n",
    "    log.debug(\"added task: %s\" % str(task_to_add))\n",
    "    return task_to_add.id\n",
    "\n",
    "add_task(desc=\"Buy weekly groceries\", orig_comp=dt.datetime(2016, 5, 29), for_whom=1)"
   ]
  },
  {
   "cell_type": "code",
   "execution_count": 7,
   "metadata": {
    "collapsed": false
   },
   "outputs": [
    {
     "data": {
      "text/plain": [
       "Table('tasks', MetaData(bind=None), Column('id', Integer(), table=<tasks>, primary_key=True, nullable=False), Column('desc', String(length=140), table=<tasks>), Column('orig_comp', DateTime(), table=<tasks>), Column('cur_comp', DateTime(), table=<tasks>), Column('for_whom', Integer(), table=<tasks>), Column('status', String(length=140), table=<tasks>), schema=None)"
      ]
     },
     "execution_count": 7,
     "metadata": {},
     "output_type": "execute_result"
    }
   ],
   "source": [
    "Tasks.__table__\n",
    "\n",
    "Base.metadata.create_all(db_engine)\n",
    "\n",
    "first_task = Tasks(desc = \"Buy weekly groceries\", orig_comp=dt.datetime(2016, 5, 29),\n",
    "                  cur_comp=dt.datetime(2016, 6, 4), for_whom=1, status=\"Todo\")\n",
    "\n",
    "from sqlalchemy.orm import sessionmaker\n",
    "Session = sessionmaker(bind=db_engine)\n",
    "\n",
    "session = Session()\n",
    "\n",
    "session.add(first_task)\n",
    "\n",
    "session.commit()\n",
    "\n",
    "for task in session.query(Tasks).filter_by():\n",
    "    print(task)"
   ]
  },
  {
   "cell_type": "code",
   "execution_count": null,
   "metadata": {
    "collapsed": true
   },
   "outputs": [],
   "source": [
    "def update_task(id, desc):\n",
    "    pass\n"
   ]
  }
 ],
 "metadata": {
  "kernelspec": {
   "display_name": "Python 3 (py3k)",
   "language": "python",
   "name": "py3k"
  },
  "language_info": {
   "codemirror_mode": {
    "name": "ipython",
    "version": 3
   },
   "file_extension": ".py",
   "mimetype": "text/x-python",
   "name": "python",
   "nbconvert_exporter": "python",
   "pygments_lexer": "ipython3",
   "version": "3.5.1"
  }
 },
 "nbformat": 4,
 "nbformat_minor": 0
}
