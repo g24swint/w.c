{
 "cells": [
  {
   "cell_type": "code",
   "execution_count": 1,
   "metadata": {
    "collapsed": true
   },
   "outputs": [],
   "source": [
    "'''_data_model.py contains the data models for the essential parts of the \n",
    "todo lists in several major classes.\n",
    "'''\n",
    "import sqlalchemy as sa\n"
   ]
  },
  {
   "cell_type": "code",
   "execution_count": 2,
   "metadata": {
    "collapsed": true
   },
   "outputs": [],
   "source": [
    "# disable pylint squawks when using Declarative\n",
    "# pylint: disable=too-few-public-methods,invalid-name\n",
    "\n",
    "from sqlalchemy.ext.declarative import declarative_base\n",
    "Base = declarative_base()"
   ]
  },
  {
   "cell_type": "code",
   "execution_count": 3,
   "metadata": {
    "collapsed": false
   },
   "outputs": [],
   "source": [
    "class Task(Base):\n",
    "    '''SQLAlchemy Tasks class that maps all tasks to the tasks table\n",
    "    \n",
    "    Task descriptions default to Twitter length strings :-)\n",
    "    '''\n",
    "    __tablename__ = \"tasks\"\n",
    "    tid = sa.Column(sa.Integer, primary_key=True)\n",
    "    desc = sa.Column(sa.String(140))\n",
    "    orig_comp = sa.Column(sa.DateTime)\n",
    "    cur_comp = sa.Column(sa.DateTime)\n",
    "    for_whom = sa.Column(sa.String(140))\n",
    "    status = sa.Column(sa.String(140))\n",
    "    \n",
    "    def __repr__(self):\n",
    "        #pylint: disable=line-too-long\n",
    "        return (\"Task {0.tid}: ({0.desc}, {0.orig_comp}, {0.cur_comp}, \" + \\\n",
    "                \"{0.for_whom}, {0.status})\").format(self)"
   ]
  },
  {
   "cell_type": "code",
   "execution_count": 4,
   "metadata": {
    "collapsed": false
   },
   "outputs": [
    {
     "name": "stdout",
     "output_type": "stream",
     "text": [
      "Task None: (Buy weekly groceries, 2016-05-29 00:00:00, 2016-06-04 00:00:00, Galen, Todo)\n"
     ]
    }
   ],
   "source": [
    "def test_Task_print():\n",
    "    import datetime as dt\n",
    "    first_task = Task(desc=\"Buy weekly groceries\", orig_comp=dt.datetime(2016, 5, 29),\n",
    "                      cur_comp=dt.datetime(2016, 6, 4), for_whom=\"Galen\", status=\"Todo\")\n",
    "    print(first_task)\n",
    "test_Task_print()"
   ]
  },
  {
   "cell_type": "code",
   "execution_count": 5,
   "metadata": {
    "collapsed": false
   },
   "outputs": [],
   "source": [
    "import datetime as dt\n",
    "first_task = Task(desc=\"Buy weekly groceries\", orig_comp=dt.datetime(2016, 5, 29),\n",
    "                   cur_comp=dt.datetime(2016, 6, 4), for_whom=1, status=\"Todo\")\n"
   ]
  },
  {
   "cell_type": "code",
   "execution_count": 6,
   "metadata": {
    "collapsed": false
   },
   "outputs": [
    {
     "data": {
      "text/plain": [
       "'Task None: (Buy weekly groceries, 2016-05-29 00:00:00, 2016-06-04 00:00:00, 1, Todo)'"
      ]
     },
     "execution_count": 6,
     "metadata": {},
     "output_type": "execute_result"
    }
   ],
   "source": [
    "(\"Task {0.tid}: ({0.desc}, {0.orig_comp}, {0.cur_comp}, \"+\"{0.for_whom}, {0.status})\").format(first_task)"
   ]
  },
  {
   "cell_type": "code",
   "execution_count": null,
   "metadata": {
    "collapsed": false
   },
   "outputs": [],
   "source": []
  }
 ],
 "metadata": {
  "kernelspec": {
   "display_name": "Python 3 (py3k)",
   "language": "python",
   "name": "py3k"
  },
  "language_info": {
   "codemirror_mode": {
    "name": "ipython",
    "version": 3
   },
   "file_extension": ".py",
   "mimetype": "text/x-python",
   "name": "python",
   "nbconvert_exporter": "python",
   "pygments_lexer": "ipython3",
   "version": "3.5.1"
  }
 },
 "nbformat": 4,
 "nbformat_minor": 0
}
