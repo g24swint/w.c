{
 "cells": [
  {
   "cell_type": "code",
   "execution_count": 1,
   "metadata": {
    "collapsed": false
   },
   "outputs": [
    {
     "name": "stdout",
     "output_type": "stream",
     "text": [
      "Task None: (Buy weekly groceries, 2016-05-29 00:00:00, 2016-06-04 00:00:00, Galen, Todo)\n"
     ]
    }
   ],
   "source": [
    "'''w.c The wild.chicken top level module for managing tasks'''\n",
    "\n",
    "import sys\n",
    "import os\n",
    "import datetime as dt\n",
    "import time\n",
    "import logging\n",
    "\n",
    "\n",
    "from ._setup_routines import _init_logs, _get_db_name\n",
    "import w_c.wc_api as wc"
   ]
  },
  {
   "cell_type": "code",
   "execution_count": 5,
   "metadata": {
    "collapsed": true
   },
   "outputs": [],
   "source": [
    "def standalone_exec():\n",
    "    print('Running main')\n",
    "    wc_log = _init_logs()\n",
    "    wc_tasks = TaskEngine(_get_db_name())\n",
    "    wc_tasks.add_task(session, desc=\"Buy weekly groceries\", orig_comp=dt.datetime(2016, 5, 29), for_whom=1)\n",
    "    wc_tasks.list_tasks(session)\n",
    "    return 0"
   ]
  },
  {
   "cell_type": "code",
   "execution_count": 6,
   "metadata": {
    "collapsed": false
   },
   "outputs": [
    {
     "name": "stdout",
     "output_type": "stream",
     "text": [
      "__main__\n",
      "Running main\n",
      "2016-05-30 21:54:08,345::_setup_routines::_setup_routines.py::DEBUG::Starting in C:\\Users\\ibuypower\\git\\w.c\n",
      "2016-05-30 21:54:08,348::_setup_routines::_setup_routines.py::DEBUG::Versions:\n",
      "2016-05-30 21:54:08,349::_setup_routines::_setup_routines.py::DEBUG::  slqalchemy: 1.0.9\n",
      "2016-05-30 21:54:08,351::_setup_routines::_setup_routines.py::DEBUG::     sqlite3: 2.6.0\n",
      "2016-05-30 21:54:08,355::_setup_routines::_setup_routines.py::DEBUG:: db_dir:: C:\\Users\\ibuypower\\git\\db\n",
      "2016-05-30 21:54:08,358::_setup_routines::_setup_routines.py::DEBUG::db_name:: C:\\Users\\ibuypower\\git\\db\\work_cards.db\n",
      "[Task 1: (Buy weekly groceries, 2016-05-29 00:00:00, 2016-06-04 00:00:00, 1, Todo), Task 2: (Buy weekly groceries, 2016-05-29 00:00:00, 2016-05-29 00:00:00, 1, Todo), Task 3: (Buy weekly groceries, 2016-05-29 00:00:00, 2016-05-29 00:00:00, 1, Todo), Task 4: (Buy weekly groceries, 2016-05-29 00:00:00, 2016-05-29 00:00:00, 1, Todo)]\n"
     ]
    }
   ],
   "source": [
    "print(__name__)\n",
    "\n",
    "if __name__ == '__main__':\n",
    "    standalone_exec()"
   ]
  }
 ],
 "metadata": {
  "kernelspec": {
   "display_name": "Python 3 (py3k)",
   "language": "python",
   "name": "py3k"
  },
  "language_info": {
   "codemirror_mode": {
    "name": "ipython",
    "version": 3
   },
   "file_extension": ".py",
   "mimetype": "text/x-python",
   "name": "python",
   "nbconvert_exporter": "python",
   "pygments_lexer": "ipython3",
   "version": "3.5.1"
  }
 },
 "nbformat": 4,
 "nbformat_minor": 0
}
