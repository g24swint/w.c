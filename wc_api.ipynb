{
 "cells": [
  {
   "cell_type": "code",
   "execution_count": 9,
   "metadata": {
    "collapsed": false
   },
   "outputs": [],
   "source": [
    "import sqlite3 as db\n",
    "import sqlalchemy as sa\n",
    "import logging as logging\n",
    "import sys"
   ]
  },
  {
   "cell_type": "code",
   "execution_count": 10,
   "metadata": {
    "collapsed": false
   },
   "outputs": [],
   "source": [
    "#fhandler = log.FileHandler(filename='mylog.log', mode='a')\n",
    "log = logging.getLogger(\"w_c\")\n",
    "log_stream = logging.StreamHandler(sys.stdout)\n",
    "log_formatter = logging.Formatter('%(asctime)s - %(name)s - %(levelname)s - %(message)s')\n",
    "log_stream.setFormatter(formatter)\n",
    "log.addHandler(log_stream)\n",
    "log.setLevel(logging.DEBUG)"
   ]
  },
  {
   "cell_type": "code",
   "execution_count": 12,
   "metadata": {
    "collapsed": false
   },
   "outputs": [
    {
     "name": "stdout",
     "output_type": "stream",
     "text": [
      "2016-05-29 21:46:11,740 - w_c - DEBUG - Versions:\n",
      "2016-05-29 21:46:11,751 - w_c - DEBUG -   slqalchemy: 1.0.13\n",
      "2016-05-29 21:46:11,754 - w_c - DEBUG -      sqlite3: 2.6.0\n"
     ]
    }
   ],
   "source": [
    "log.debug(\"Versions:\")\n",
    "log.debug(\"  slqalchemy: {}\".format(sa.__version__))\n",
    "log.debug(\"     sqlite3: {}\".format(db.version))"
   ]
  },
  {
   "cell_type": "code",
   "execution_count": null,
   "metadata": {
    "collapsed": false
   },
   "outputs": [],
   "source": [
    "sa.__version__"
   ]
  },
  {
   "cell_type": "code",
   "execution_count": 7,
   "metadata": {
    "collapsed": true
   },
   "outputs": [],
   "source": [
    "?logging.StreamHandler"
   ]
  },
  {
   "cell_type": "code",
   "execution_count": null,
   "metadata": {
    "collapsed": true
   },
   "outputs": [],
   "source": []
  }
 ],
 "metadata": {
  "kernelspec": {
   "display_name": "Python 3 (py3k)",
   "language": "python",
   "name": "py3k"
  },
  "language_info": {
   "codemirror_mode": {
    "name": "ipython",
    "version": 3
   },
   "file_extension": ".py",
   "mimetype": "text/x-python",
   "name": "python",
   "nbconvert_exporter": "python",
   "pygments_lexer": "ipython3",
   "version": "3.5.1"
  }
 },
 "nbformat": 4,
 "nbformat_minor": 0
}
