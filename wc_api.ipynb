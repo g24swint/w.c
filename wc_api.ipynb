{
 "cells": [
  {
   "cell_type": "code",
   "execution_count": 1,
   "metadata": {
    "collapsed": false
   },
   "outputs": [],
   "source": [
    "import sys\n",
    "import os\n",
    "\n",
    "import sqlite3 as db\n",
    "import sqlalchemy as sa\n",
    "import logging as logging\n",
    "\n",
    "import datetime as dt\n",
    "import time"
   ]
  },
  {
   "cell_type": "code",
   "execution_count": 2,
   "metadata": {
    "collapsed": true
   },
   "outputs": [],
   "source": [
    "# \"global\" variables\n",
    "wc_log = None\n",
    "startup_path = os.getcwd()\n",
    "db_dir = None\n",
    "db_engine = None"
   ]
  },
  {
   "cell_type": "code",
   "execution_count": 3,
   "metadata": {
    "collapsed": false
   },
   "outputs": [
    {
     "name": "stdout",
     "output_type": "stream",
     "text": [
      "2016-05-29 23:07:44,149::w_c::DEBUG::Starting in C:\\Users\\Galen\\git\\w.c\n",
      "2016-05-29 23:07:44,154::w_c::DEBUG::Versions:\n",
      "2016-05-29 23:07:44,156::w_c::DEBUG::  slqalchemy: 1.0.13\n",
      "2016-05-29 23:07:44,157::w_c::DEBUG::     sqlite3: 2.6.0\n"
     ]
    }
   ],
   "source": [
    "def _init_logs(reset_handlers=True):\n",
    "    \"\"\"Create a sys.stdout logger for w_c and print startup information \n",
    "    \n",
    "    The logger name is the \"w_c\" namespace\n",
    "    \"\"\"\n",
    "    global wc_log\n",
    "    log = logging.getLogger(\"w_c\")\n",
    "    if reset_handlers:\n",
    "        log.handlers = []\n",
    "        log_stream = logging.StreamHandler(sys.stdout)\n",
    "        log_formatter = logging.Formatter('%(asctime)s::%(name)s::%(levelname)s::%(message)s')\n",
    "        log_stream.setFormatter(log_formatter)\n",
    "        log.addHandler(log_stream)\n",
    "        log.setLevel(logging.DEBUG)\n",
    "    log.debug(\"Starting in %s\" % startup_path)\n",
    "    log.debug(\"Versions:\")\n",
    "    log.debug(\"  slqalchemy: {}\".format(sa.__version__))\n",
    "    log.debug(\"     sqlite3: {}\".format(db.version))\n",
    "    wc_log = log\n",
    "\n",
    "_init_logs()"
   ]
  },
  {
   "cell_type": "code",
   "execution_count": 4,
   "metadata": {
    "collapsed": false
   },
   "outputs": [
    {
     "name": "stdout",
     "output_type": "stream",
     "text": [
      "2016-05-29 23:07:44,226::w_c::DEBUG:: db_dir:: C:\\Users\\Galen\\git\\db\n",
      "2016-05-29 23:07:44,227::w_c::DEBUG::db_name:: C:\\Users\\Galen\\git\\db\\work_cards.db\n"
     ]
    }
   ],
   "source": [
    "def _setup_engine():\n",
    "    '''Set the '''\n",
    "    global db_dir, db_engine \n",
    "    db_dir = os.path.join(os.path.dirname(startup_path),'db')\n",
    "    db_name = os.path.join(db_dir, \"work_cards.db\")\n",
    "    wc_log.debug(\" db_dir:: %s\" % db_dir)\n",
    "    wc_log.debug(\"db_name:: %s\" % db_name)\n",
    "    db_engine = sa.create_engine(\"sqlite:///\" + db_name )\n",
    "    \n",
    "_setup_engine()"
   ]
  },
  {
   "cell_type": "code",
   "execution_count": 5,
   "metadata": {
    "collapsed": false
   },
   "outputs": [],
   "source": [
    "from sqlalchemy.ext.declarative import declarative_base\n",
    "Base = declarative_base()"
   ]
  },
  {
   "cell_type": "code",
   "execution_count": 6,
   "metadata": {
    "collapsed": false
   },
   "outputs": [],
   "source": [
    "\n",
    "class Tasks(Base):\n",
    "    '''SQLAlchemy Tasks class that maps all tasks to the tasks table\n",
    "    \n",
    "    Task descriptions default to Twitter length strings :-)\n",
    "    '''\n",
    "    __tablename__ = \"tasks\"\n",
    "    id = sa.Column(sa.Integer, primary_key = True)\n",
    "    desc = sa.Column(sa.String(140))\n",
    "    orig_comp = sa.Column(sa.DateTime)\n",
    "    cur_comp = sa.Column(sa.DateTime)\n",
    "    for_whom = sa.Column(sa.Integer)\n",
    "    \n",
    "    def __repr__(self):\n",
    "        return \"Task {}: ({}, {}, {}, {})\".format(\n",
    "        self.id, self.desc, self.orig_comp, self.cur_comp, self.for_whom )\n",
    "    "
   ]
  },
  {
   "cell_type": "code",
   "execution_count": 7,
   "metadata": {
    "collapsed": false
   },
   "outputs": [
    {
     "data": {
      "text/plain": [
       "Table('tasks', MetaData(bind=None), Column('id', Integer(), table=<tasks>, primary_key=True, nullable=False), Column('desc', String(length=140), table=<tasks>), Column('orig_comp', DateTime(), table=<tasks>), Column('cur_comp', DateTime(), table=<tasks>), Column('for_whom', Integer(), table=<tasks>), schema=None)"
      ]
     },
     "execution_count": 7,
     "metadata": {},
     "output_type": "execute_result"
    }
   ],
   "source": [
    "Tasks.__table__"
   ]
  },
  {
   "cell_type": "code",
   "execution_count": 8,
   "metadata": {
    "collapsed": false
   },
   "outputs": [],
   "source": [
    "Base.metadata.create_all(db_engine)"
   ]
  },
  {
   "cell_type": "code",
   "execution_count": 9,
   "metadata": {
    "collapsed": false
   },
   "outputs": [],
   "source": [
    "first_task = Tasks(desc = \"Buy weekly groceries\", orig_comp=dt.datetime(2016, 5, 29),\n",
    "                  cur_comp=dt.datetime(2016, 6, 4), for_whom=1)"
   ]
  },
  {
   "cell_type": "code",
   "execution_count": 10,
   "metadata": {
    "collapsed": true
   },
   "outputs": [],
   "source": [
    "from sqlalchemy.orm import sessionmaker\n",
    "Session = sessionmaker(bind=db_engine)"
   ]
  },
  {
   "cell_type": "code",
   "execution_count": 11,
   "metadata": {
    "collapsed": false
   },
   "outputs": [],
   "source": [
    "session = Session()"
   ]
  },
  {
   "cell_type": "code",
   "execution_count": 12,
   "metadata": {
    "collapsed": true
   },
   "outputs": [],
   "source": [
    "session.add(first_task)"
   ]
  },
  {
   "cell_type": "code",
   "execution_count": 13,
   "metadata": {
    "collapsed": true
   },
   "outputs": [],
   "source": [
    "session.flush()"
   ]
  },
  {
   "cell_type": "code",
   "execution_count": 14,
   "metadata": {
    "collapsed": true
   },
   "outputs": [],
   "source": [
    "session.commit()"
   ]
  },
  {
   "cell_type": "code",
   "execution_count": 15,
   "metadata": {
    "collapsed": false
   },
   "outputs": [
    {
     "name": "stdout",
     "output_type": "stream",
     "text": [
      "Task 1: (Buy weekly groceries, 2016-05-29 00:00:00, 2016-06-04 00:00:00, 1)\n",
      "Task 2: (Buy weekly groceries, 2016-05-29 00:00:00, 2016-06-04 00:00:00, 1)\n"
     ]
    }
   ],
   "source": [
    "for task in session.query(Tasks).filter_by():\n",
    "    print(task)"
   ]
  },
  {
   "cell_type": "code",
   "execution_count": null,
   "metadata": {
    "collapsed": true
   },
   "outputs": [],
   "source": []
  }
 ],
 "metadata": {
  "kernelspec": {
   "display_name": "Python 3 (py3k)",
   "language": "python",
   "name": "py3k"
  },
  "language_info": {
   "codemirror_mode": {
    "name": "ipython",
    "version": 3
   },
   "file_extension": ".py",
   "mimetype": "text/x-python",
   "name": "python",
   "nbconvert_exporter": "python",
   "pygments_lexer": "ipython3",
   "version": "3.5.1"
  }
 },
 "nbformat": 4,
 "nbformat_minor": 0
}
