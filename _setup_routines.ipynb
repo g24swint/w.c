{
 "cells": [
  {
   "cell_type": "code",
   "execution_count": 1,
   "metadata": {
    "collapsed": true
   },
   "outputs": [],
   "source": [
    "\"\"\"_setup_routines submodule initializes logger and data base locations.\n",
    "\n",
    "Will likely be replaced by more robust config-file style of startup\"\"\"\n",
    "import sys\n",
    "import os\n",
    "\n",
    "import logging\n",
    "\n",
    "import sqlite3 as db\n",
    "import sqlalchemy as sa"
   ]
  },
  {
   "cell_type": "code",
   "execution_count": 2,
   "metadata": {
    "collapsed": true
   },
   "outputs": [],
   "source": [
    "STARTUP_PATH = os.getcwd()"
   ]
  },
  {
   "cell_type": "code",
   "execution_count": 3,
   "metadata": {
    "collapsed": true
   },
   "outputs": [],
   "source": [
    "def _init_logs(reset_handlers=True):\n",
    "    \"\"\"Create a sys.stdout logger for w_c and print startup information \n",
    "    \n",
    "    The logger name is the \"w_c\" namespace\n",
    "    \n",
    "    Params:\n",
    "        reset_handlers: will clear all handlers if True\n",
    "    \n",
    "    Returns:\n",
    "        The Logger object\n",
    "    \"\"\"\n",
    "    log = logging.getLogger(__name__)\n",
    "    if reset_handlers:\n",
    "        log.handlers = []\n",
    "        log_stream = logging.StreamHandler(sys.stdout)\n",
    "        log_formatter = logging.Formatter('%(asctime)s::%(name)s::%(filename)'+\n",
    "                                          's::%(levelname)s::%(message)s')\n",
    "        log_stream.setFormatter(log_formatter)\n",
    "        log.addHandler(log_stream)\n",
    "        log.setLevel(logging.DEBUG)\n",
    "    log.debug(\"Starting in %s\", (STARTUP_PATH))\n",
    "    log.debug(\"Versions:\")\n",
    "    log.debug(\"  slqalchemy: %s\", (sa.__version__))\n",
    "    log.debug(\"     sqlite3: %s\", (db.version))\n",
    "    return log\n",
    "\n",
    "def _get_db_name():\n",
    "    '''Calculate our db_dir if needed and relative to our cwd\n",
    "    Returns:\n",
    "        Absolute path to our db directory'''\n",
    "    log = logging.getLogger(__name__)\n",
    "    db_dir = os.path.join(os.path.dirname(STARTUP_PATH), 'db')\n",
    "    if not os.path.exists(db_dir):\n",
    "        os.mkdir(db_dir)\n",
    "    db_name = os.path.join(db_dir, \"work_cards.db\")\n",
    "    log.debug(\" db_dir:: %s\", (db_dir))\n",
    "    log.debug(\"db_name:: %s\", (db_name))\n",
    "    return db_name\n",
    "\n",
    "\n"
   ]
  }
 ],
 "metadata": {
  "kernelspec": {
   "display_name": "Python 3 (py3k)",
   "language": "python",
   "name": "py3k"
  },
  "language_info": {
   "codemirror_mode": {
    "name": "ipython",
    "version": 2
   },
   "file_extension": ".py",
   "mimetype": "text/x-python",
   "name": "python",
   "nbconvert_exporter": "python",
   "pygments_lexer": "ipython2",
   "version": "2.7.11"
  }
 },
 "nbformat": 4,
 "nbformat_minor": 0
}
