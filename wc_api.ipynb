{
 "cells": [
  {
   "cell_type": "code",
   "execution_count": 12,
   "metadata": {
    "collapsed": false
   },
   "outputs": [],
   "source": [
    "import sys\n",
    "import os\n",
    "\n",
    "import sqlite3 as db\n",
    "import sqlalchemy as sa\n",
    "import logging as logging\n",
    "\n",
    "import datetime as dt\n",
    "import time"
   ]
  },
  {
   "cell_type": "code",
   "execution_count": 3,
   "metadata": {
    "collapsed": true
   },
   "outputs": [],
   "source": [
    "# \"global\" variables\n",
    "wc_log = None\n",
    "startup_path = os.getcwd()\n",
    "db_dir = None\n",
    "db_engine = None"
   ]
  },
  {
   "cell_type": "code",
   "execution_count": 4,
   "metadata": {
    "collapsed": false
   },
   "outputs": [
    {
     "name": "stdout",
     "output_type": "stream",
     "text": [
      "2016-05-29 22:15:42,310::w_c::DEBUG::Starting in C:\\Users\\Galen\\git\\w.c\n",
      "2016-05-29 22:15:42,316::w_c::DEBUG::Versions:\n",
      "2016-05-29 22:15:42,318::w_c::DEBUG::  slqalchemy: 1.0.13\n",
      "2016-05-29 22:15:42,320::w_c::DEBUG::     sqlite3: 2.6.0\n"
     ]
    }
   ],
   "source": [
    "def _init_logs(reset_handlers=True):\n",
    "    \"\"\"Create a sys.stdout logger for w_c and print startup information \n",
    "    \n",
    "    The logger name is the \"w_c\" namespace\n",
    "    \"\"\"\n",
    "    global wc_log\n",
    "    log = logging.getLogger(\"w_c\")\n",
    "    if reset_handlers:\n",
    "        log.handlers = []\n",
    "        log_stream = logging.StreamHandler(sys.stdout)\n",
    "        log_formatter = logging.Formatter('%(asctime)s::%(name)s::%(levelname)s::%(message)s')\n",
    "        log_stream.setFormatter(log_formatter)\n",
    "        log.addHandler(log_stream)\n",
    "        log.setLevel(logging.DEBUG)\n",
    "    log.debug(\"Starting in %s\" % startup_path)\n",
    "    log.debug(\"Versions:\")\n",
    "    log.debug(\"  slqalchemy: {}\".format(sa.__version__))\n",
    "    log.debug(\"     sqlite3: {}\".format(db.version))\n",
    "    wc_log = log\n",
    "\n",
    "_init_logs()"
   ]
  },
  {
   "cell_type": "code",
   "execution_count": 8,
   "metadata": {
    "collapsed": false
   },
   "outputs": [
    {
     "name": "stdout",
     "output_type": "stream",
     "text": [
      "2016-05-29 22:18:19,455::w_c::DEBUG::db_dir:: C:\\Users\\Galen\\git\\db\n"
     ]
    }
   ],
   "source": [
    "def _setup_engine():\n",
    "    '''Set the '''\n",
    "    global db_dir, db_engine \n",
    "    db_dir = os.path.join(os.path.dirname(startup_path),'db')\n",
    "    wc_log.debug(\"db_dir:: %s\" % db_dir)\n",
    "    db_engine = sa.create_engine(\"sqlite:///\" + db_dir)\n",
    "    \n",
    "_setup_engine()"
   ]
  },
  {
   "cell_type": "code",
   "execution_count": 10,
   "metadata": {
    "collapsed": false
   },
   "outputs": [],
   "source": [
    "from sqlalchemy.ext.declarative import declarative_base"
   ]
  },
  {
   "cell_type": "code",
   "execution_count": 11,
   "metadata": {
    "collapsed": true
   },
   "outputs": [],
   "source": [
    "Base = declarative_base()"
   ]
  },
  {
   "cell_type": "code",
   "execution_count": 26,
   "metadata": {
    "collapsed": true
   },
   "outputs": [],
   "source": [
    "\n",
    "class Tasks(Base):\n",
    "    '''SQLAlchemy Tasks class that maps all tasks to the tasks table\n",
    "    \n",
    "    Task descriptions default to Twitter length strings :-)\n",
    "    '''\n",
    "    __tablename__ = \"tasks\"\n",
    "    id = sa.Column(sa.Integer, primary_key = True)\n",
    "    desc = sa.Column(sa.String(140))\n",
    "    orig_comp = sa.Column(sa.DateTime)\n",
    "    cur_comp = sa.Column(sa.DateTime)\n",
    "    for_whom = sa.Column(sa.Integer)\n",
    "    \n",
    "    def __repr__(self):\n",
    "        return \"Task {id}: ({desc}, {orig_comp}, {cur_comp}, {for_whom})\".format(\n",
    "        self )\n",
    "    "
   ]
  },
  {
   "cell_type": "code",
   "execution_count": 27,
   "metadata": {
    "collapsed": false
   },
   "outputs": [
    {
     "data": {
      "text/plain": [
       "Table('tasks', MetaData(bind=None), Column('id', Integer(), table=<tasks>, primary_key=True, nullable=False), Column('desc', String(length=140), table=<tasks>), Column('orig_comp', DateTime(), table=<tasks>), Column('cur_comp', DateTime(), table=<tasks>), Column('for_whom', Integer(), table=<tasks>), schema=None)"
      ]
     },
     "execution_count": 27,
     "metadata": {},
     "output_type": "execute_result"
    }
   ],
   "source": [
    "Tasks.__table__"
   ]
  }
 ],
 "metadata": {
  "kernelspec": {
   "display_name": "Python 3 (py3k)",
   "language": "python",
   "name": "py3k"
  },
  "language_info": {
   "codemirror_mode": {
    "name": "ipython",
    "version": 3
   },
   "file_extension": ".py",
   "mimetype": "text/x-python",
   "name": "python",
   "nbconvert_exporter": "python",
   "pygments_lexer": "ipython3",
   "version": "3.5.1"
  }
 },
 "nbformat": 4,
 "nbformat_minor": 0
}
