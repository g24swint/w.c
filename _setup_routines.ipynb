{
 "cells": [
  {
   "cell_type": "code",
   "execution_count": null,
   "metadata": {
    "collapsed": true
   },
   "outputs": [],
   "source": [
    "import sys\n",
    "import os\n",
    "\n",
    "import sqlite3 as db\n",
    "import sqlalchemy as sa\n",
    "import logging as logging"
   ]
  },
  {
   "cell_type": "code",
   "execution_count": null,
   "metadata": {
    "collapsed": true
   },
   "outputs": [],
   "source": [
    "startup_path = os.getcwd()"
   ]
  },
  {
   "cell_type": "code",
   "execution_count": null,
   "metadata": {
    "collapsed": true
   },
   "outputs": [],
   "source": [
    "def _init_logs(reset_handlers=True):\n",
    "    \"\"\"Create a sys.stdout logger for w_c and print startup information \n",
    "    \n",
    "    The logger name is the \"w_c\" namespace\n",
    "    \n",
    "    Params:\n",
    "        reset_handlers: will clear all handlers if True\n",
    "    \n",
    "    Returns:\n",
    "        The Logger object\n",
    "    \"\"\"\n",
    "    log = logging.getLogger(__name__)\n",
    "    if reset_handlers:\n",
    "        log.handlers = []\n",
    "        log_stream = logging.StreamHandler(sys.stdout)\n",
    "        log_formatter = logging.Formatter('%(asctime)s::%(name)s::%(filename)s::%(levelname)s::%(message)s')\n",
    "        log_stream.setFormatter(log_formatter)\n",
    "        log.addHandler(log_stream)\n",
    "        log.setLevel(logging.DEBUG)\n",
    "    log.debug(\"Starting in %s\" % startup_path)\n",
    "    log.debug(\"Versions:\")\n",
    "    log.debug(\"  slqalchemy: {}\".format(sa.__version__))\n",
    "    log.debug(\"     sqlite3: {}\".format(db.version))\n",
    "    wc_log = log\n",
    "    return wc_log\n",
    "\n",
    "def _setup_engine(db_dir = None):\n",
    "    '''Set the database executioin file and create a db directory if none exists\n",
    "    \n",
    "    Params:\n",
    "        db_dir: directory where the sqlite3 db shall be put\n",
    "        \n",
    "    Returns:\n",
    "        sqlalchemy engine object\n",
    "    '''\n",
    "    log = logging.getLogger(__name__)\n",
    "    db_dir = os.path.join(os.path.dirname(startup_path),'db')\n",
    "    if not os.path.exists(db_dir):\n",
    "        os.mkdir(db_dir)\n",
    "    db_name = os.path.join(db_dir, \"work_cards.db\")\n",
    "    log.debug(\" db_dir:: %s\" % db_dir)\n",
    "    log.debug(\"db_name:: %s\" % db_name)\n",
    "    db_engine = sa.create_engine(\"sqlite:///\" + db_name )\n",
    "    return db_engine"
   ]
  }
 ],
 "metadata": {
  "kernelspec": {
   "display_name": "Python 3 (py3k)",
   "language": "python",
   "name": "py3k"
  },
  "language_info": {
   "codemirror_mode": {
    "name": "ipython",
    "version": 3
   },
   "file_extension": ".py",
   "mimetype": "text/x-python",
   "name": "python",
   "nbconvert_exporter": "python",
   "pygments_lexer": "ipython3",
   "version": "3.5.1"
  }
 },
 "nbformat": 4,
 "nbformat_minor": 0
}
