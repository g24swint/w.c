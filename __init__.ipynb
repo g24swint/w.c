{
 "cells": [
  {
   "cell_type": "code",
   "execution_count": 1,
   "metadata": {
    "collapsed": true
   },
   "outputs": [],
   "source": [
    "import sys\n",
    "import os\n",
    "\n",
    "import sqlite3 as db\n",
    "import sqlalchemy as sa\n",
    "import logging as logging\n",
    "\n",
    "import datetime as dt\n",
    "import time\n",
    "\n",
    "from _setup_routines import _init_logs, _setup_engine"
   ]
  },
  {
   "cell_type": "code",
   "execution_count": 2,
   "metadata": {
    "collapsed": true
   },
   "outputs": [],
   "source": [
    "# \"global\" variables\n",
    "wc_log = None\n",
    "db_engine = None"
   ]
  },
  {
   "cell_type": "code",
   "execution_count": 3,
   "metadata": {
    "collapsed": false
   },
   "outputs": [
    {
     "name": "stdout",
     "output_type": "stream",
     "text": [
      "2016-05-30 13:58:33,385::_setup_routines::_setup_routines.py::DEBUG::Starting in C:\\Users\\Galen\\git\\w.c\n",
      "2016-05-30 13:58:33,394::_setup_routines::_setup_routines.py::DEBUG::Versions:\n",
      "2016-05-30 13:58:33,404::_setup_routines::_setup_routines.py::DEBUG::  slqalchemy: 1.0.13\n",
      "2016-05-30 13:58:33,418::_setup_routines::_setup_routines.py::DEBUG::     sqlite3: 2.6.0\n"
     ]
    }
   ],
   "source": [
    "wc_log = _init_logs()"
   ]
  },
  {
   "cell_type": "code",
   "execution_count": 4,
   "metadata": {
    "collapsed": false
   },
   "outputs": [
    {
     "name": "stdout",
     "output_type": "stream",
     "text": [
      "2016-05-30 13:58:33,474::_setup_routines::_setup_routines.py::DEBUG:: db_dir:: C:\\Users\\Galen\\git\\db\n",
      "2016-05-30 13:58:33,476::_setup_routines::_setup_routines.py::DEBUG::db_name:: C:\\Users\\Galen\\git\\db\\work_cards.db\n"
     ]
    }
   ],
   "source": [
    "db_engine = _setup_engine()"
   ]
  },
  {
   "cell_type": "code",
   "execution_count": null,
   "metadata": {
    "collapsed": true
   },
   "outputs": [],
   "source": []
  }
 ],
 "metadata": {
  "kernelspec": {
   "display_name": "Python 3 (py3k)",
   "language": "python",
   "name": "py3k"
  },
  "language_info": {
   "codemirror_mode": {
    "name": "ipython",
    "version": 3
   },
   "file_extension": ".py",
   "mimetype": "text/x-python",
   "name": "python",
   "nbconvert_exporter": "python",
   "pygments_lexer": "ipython3",
   "version": "3.5.1"
  }
 },
 "nbformat": 4,
 "nbformat_minor": 0
}
