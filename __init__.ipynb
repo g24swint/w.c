{
 "cells": [
  {
   "cell_type": "code",
   "execution_count": 1,
   "metadata": {
    "collapsed": false
   },
   "outputs": [],
   "source": [
    "'''w.c The wild.chicken top level module for managing tasks'''\n",
    "\n",
    "import sys\n",
    "import os\n",
    "import datetime as dt\n",
    "import time\n",
    "import logging\n",
    "\n",
    "\n",
    "from _setup_routines import _init_logs, _setup_engine"
   ]
  },
  {
   "cell_type": "code",
   "execution_count": 2,
   "metadata": {
    "collapsed": false
   },
   "outputs": [
    {
     "name": "stdout",
     "output_type": "stream",
     "text": [
      "__main__\n",
      "Running main\n",
      "2016-05-30 15:41:26,667::_setup_routines::_setup_routines.py::DEBUG::Starting in C:\\Users\\Galen\\git\\w.c\n",
      "2016-05-30 15:41:26,670::_setup_routines::_setup_routines.py::DEBUG::Versions:\n",
      "2016-05-30 15:41:26,672::_setup_routines::_setup_routines.py::DEBUG::  slqalchemy: 1.0.13\n",
      "2016-05-30 15:41:26,674::_setup_routines::_setup_routines.py::DEBUG::     sqlite3: 2.6.0\n",
      "2016-05-30 15:41:26,676::_setup_routines::_setup_routines.py::DEBUG:: db_dir:: C:\\Users\\Galen\\git\\db\n",
      "2016-05-30 15:41:26,679::_setup_routines::_setup_routines.py::DEBUG::db_name:: C:\\Users\\Galen\\git\\db\\work_cards.db\n"
     ]
    }
   ],
   "source": [
    "print(__name__)\n",
    "if __name__ == '__main__':\n",
    "    print('Running main')\n",
    "    wc_log = _init_logs()\n",
    "    db_engine = _setup_engine()    "
   ]
  }
 ],
 "metadata": {
  "kernelspec": {
   "display_name": "Python 3 (py3k)",
   "language": "python",
   "name": "py3k"
  },
  "language_info": {
   "codemirror_mode": {
    "name": "ipython",
    "version": 3
   },
   "file_extension": ".py",
   "mimetype": "text/x-python",
   "name": "python",
   "nbconvert_exporter": "python",
   "pygments_lexer": "ipython3",
   "version": "3.5.1"
  }
 },
 "nbformat": 4,
 "nbformat_minor": 0
}
